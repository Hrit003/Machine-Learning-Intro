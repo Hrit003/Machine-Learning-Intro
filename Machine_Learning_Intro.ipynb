{
  "nbformat": 4,
  "nbformat_minor": 0,
  "metadata": {
    "colab": {
      "provenance": []
    },
    "kernelspec": {
      "name": "python3",
      "display_name": "Python 3"
    },
    "language_info": {
      "name": "python"
    }
  },
  "cells": [
    {
      "cell_type": "markdown",
      "source": [
        "[1] **Explain the differences between AI, ML, Deep Learning (DL), and Data Science (DS).**\n",
        "\n",
        "=>\n",
        "\n",
        "1. Artificial Intelligence (AI)\n",
        "\n",
        "* Definition: AI is the broadest field — it’s about making machines simulate human intelligence (reasoning, learning, problem-solving, decision-making).\n",
        "\n",
        "* Purpose: To create systems that can act intelligently.\n",
        "\n",
        "* Examples:\n",
        "\n",
        "  Chatbots like me (AI assistants)\n",
        "\n",
        "  Self-driving cars\n",
        "\n",
        "2. Machine Learning (ML)\n",
        "\n",
        "* Definition: ML is a subset of AI that focuses on systems that can learn from data without being explicitly programmed.\n",
        "\n",
        "* Purpose: Improve performance on a task as more data is given.\n",
        "\n",
        "* Examples:\n",
        "\n",
        "  Spam email filtering\n",
        "\n",
        "  Predicting stock prices\n",
        "\n",
        " 3. Deep Learning (DL)\n",
        "\n",
        "* Definition: DL is a subset of ML that uses artificial neural networks with many layers (hence “deep”).\n",
        "\n",
        "* Purpose: Handle very large and complex datasets, especially images, audio, text, video.\n",
        "\n",
        "* Examples:\n",
        "\n",
        "  Face recognition on Facebook\n",
        "\n",
        "  Voice assistants (Alexa, Siri, Google Assistant)\n",
        "\n",
        "\n"
      ],
      "metadata": {
        "id": "a74xI3lfHJQK"
      }
    },
    {
      "cell_type": "markdown",
      "source": [
        "[2] **What are the types of machine learning? Describe each with one\n",
        "real-world example.**\n",
        "\n",
        "=> Machine Learning (ML) is usually classified into three main types (plus a 4th emerging one).\n",
        "\n",
        "1. Supervised Learning\n",
        "\n",
        "* Definition: The model learns from labeled data (input → output is known).\n",
        "\n",
        "* Goal: Predict outcomes for new, unseen inputs.\n",
        "\n",
        "2. Unsupervised Learning\n",
        "\n",
        "* Definition: The model learns from unlabeled data (no predefined outputs).\n",
        "\n",
        "* Goal: Discover hidden patterns, groupings, or structures.\n",
        "\n",
        "3. Reinforcement Learning (RL)\n",
        "\n",
        "* Definition: The model (called an agent) learns by interacting with an environment and receiving rewards or penalties.\n",
        "\n",
        "* Goal: Maximize long-term rewards through trial and error.\n",
        "\n",
        "4. Semi-Supervised Learning (Hybrid)\n",
        "\n",
        "* Definition: Uses a small amount of labeled data + a large amount of unlabeled data.\n",
        "\n",
        "* Goal: Improve learning accuracy when labeling data is expensive/difficult."
      ],
      "metadata": {
        "id": "Bmn1WHT9Ie3w"
      }
    },
    {
      "cell_type": "markdown",
      "source": [
        "[3] **Define overfitting, underfitting, and the bias-variance tradeoff in machine\n",
        "learning.**\n",
        "\n",
        "=>\n",
        "\n",
        "1. Overfitting\n",
        "\n",
        "* Definition: Overfitting happens when a machine learning model learns the training data too well, including its noise and random fluctuations.\n",
        "\n",
        "* Example: A decision tree that keeps splitting until every training sample is perfectly classified (too complex, memorizing instead of learning patterns).\n",
        "\n",
        "2. Underfitting\n",
        "\n",
        "* Definition: Underfitting occurs when a model is too simple to capture the underlying patterns in the data.\n",
        "\n",
        "* Example: Using a straight line (linear regression) to fit highly nonlinear data.\n",
        "\n",
        "3. Bias-Variance Tradeoff\n",
        "\n",
        "* Bias: Error due to wrong assumptions or oversimplification in the model.\n",
        "\n",
        "  High bias → underfitting.\n",
        "\n",
        "* Variance: Error due to model sensitivity to small fluctuations in the training data.\n",
        "\n",
        "  High variance → overfitting.\n",
        "\n",
        "* Tradeoff:\n",
        "\n",
        "  A good model finds the right balance between bias and variance.\n",
        "\n",
        "  Too simple → high bias, low variance (underfitting).\n",
        "\n",
        "  Too complex → low bias, high variance (overfitting).\n"
      ],
      "metadata": {
        "id": "UiTWPZtrJbx3"
      }
    },
    {
      "cell_type": "markdown",
      "source": [
        "[4] **What are outliers in a dataset, and list three common techniques for\n",
        "handling them.**\n",
        "\n",
        "=>\n",
        "\n",
        "Outliers\n",
        "\n",
        "* Definition: Outliers are data points that significantly differ from the majority of the data.\n",
        "\n",
        "* They may occur due to measurement errors, data entry mistakes, or genuine rare events.\n",
        "\n",
        "* Outliers can skew statistical measures (like mean, variance) and negatively affect model performance.\n",
        "\n",
        "Three Common Techniques for Handling Outliers:\n",
        "\n",
        "1. Removal (Deleting Outliers)\n",
        "\n",
        "  If outliers are due to errors or irrelevant anomalies, they can be removed.\n",
        "\n",
        "2. Transformation / Winsorization\n",
        "\n",
        "  Apply mathematical transformations (e.g., log, square root) to reduce the impact.\n",
        "\n",
        "3. Imputation / Replacement\n",
        "\n",
        "  Replace outliers with mean, median, or a fixed boundary value.\n"
      ],
      "metadata": {
        "id": "2M91aqE3K21e"
      }
    },
    {
      "cell_type": "markdown",
      "source": [
        "[5] **Explain the process of handling missing values and mention one\n",
        "imputation technique for numerical and one for categorical data.**\n",
        "\n",
        "=>\n",
        "\n",
        "Process of Handling Missing Values\n",
        "\n",
        "1. Identify Missing Values\n",
        "\n",
        "* Use methods like .isnull() in Pandas to check missing data.\n",
        "\n",
        "* Visualize with heatmaps or bar plots (e.g., Seaborn, missingno library).\n",
        "\n",
        "2. Understand the Reason\n",
        "\n",
        "* Missing Completely at Random (MCAR): No pattern.\n",
        "\n",
        "* Missing at Random (MAR): Depends on other features.\n",
        "\n",
        "* Missing Not at Random (MNAR): Depends on the missing value itself.\n",
        "\n",
        "3. Choose a Strategy\n",
        "\n",
        "* Delete rows/columns (only if missingness is very high and data is not useful).\n",
        "\n",
        "* Impute (fill in) values using appropriate techniques.\n",
        "\n",
        "Imputation Techniques\n",
        "\n",
        "1. For Numerical Data:\n",
        "\n",
        "* Mean/Median Imputation → Replace missing values with the column’s mean or median.\n",
        "\n",
        "* Example: Filling missing ages in a dataset with the median age.\n",
        "\n",
        "2. For Categorical Data:\n",
        "\n",
        "* Mode Imputation → Replace missing values with the most frequent category.\n",
        "\n",
        "* Example: Filling missing \"Gender\" values with the most common value (“Male” or “Female”).\n"
      ],
      "metadata": {
        "id": "uouVMkJFMDk1"
      }
    },
    {
      "cell_type": "code",
      "source": [
        "#Answer of [6]\n",
        "\n",
        "from sklearn.datasets import make_classification\n",
        "import numpy as np\n",
        "from collections import Counter\n",
        "\n",
        "# Create synthetic imbalanced dataset\n",
        "X, y = make_classification(\n",
        "    n_samples=1000,       # total samples\n",
        "    n_features=10,        # number of features\n",
        "    n_informative=5,      # number of informative features\n",
        "    n_redundant=2,        # number of redundant features\n",
        "    n_classes=2,          # binary classification\n",
        "    weights=[0.9, 0.1],   # imbalance ratio (90% vs 10%)\n",
        "    random_state=42\n",
        ")\n",
        "\n",
        "# Print class distribution\n",
        "class_distribution = Counter(y)\n",
        "print(\"Class Distribution:\", class_distribution)\n",
        "\n",
        "# Alternatively, calculate percentages\n",
        "for cls, count in class_distribution.items():\n",
        "    print(f\"Class {cls}: {count} samples ({count/len(y)*100:.2f}%)\")\n"
      ],
      "metadata": {
        "colab": {
          "base_uri": "https://localhost:8080/"
        },
        "id": "d9I0fFJ5IcVV",
        "outputId": "cae3739a-9eb9-4b9c-81ed-4f833ed7c0af"
      },
      "execution_count": null,
      "outputs": [
        {
          "output_type": "stream",
          "name": "stdout",
          "text": [
            "Class Distribution: Counter({np.int64(0): 896, np.int64(1): 104})\n",
            "Class 0: 896 samples (89.60%)\n",
            "Class 1: 104 samples (10.40%)\n"
          ]
        }
      ]
    },
    {
      "cell_type": "code",
      "source": [
        "#Answer of [7]\n",
        "\n",
        "import pandas as pd\n",
        "\n",
        "# List of colors\n",
        "colors = ['Red', 'Green', 'Blue', 'Green', 'Red']\n",
        "\n",
        "# Create DataFrame\n",
        "df = pd.DataFrame({'Color': colors})\n",
        "\n",
        "# Perform one-hot encoding\n",
        "df_encoded = pd.get_dummies(df, columns=['Color'])\n",
        "\n",
        "# Print the resulting DataFrame\n",
        "print(df_encoded)\n"
      ],
      "metadata": {
        "colab": {
          "base_uri": "https://localhost:8080/"
        },
        "id": "ovU8fPPyNU6i",
        "outputId": "0f6f2d48-eea0-45f0-8153-dc75539a8605"
      },
      "execution_count": null,
      "outputs": [
        {
          "output_type": "stream",
          "name": "stdout",
          "text": [
            "   Color_Blue  Color_Green  Color_Red\n",
            "0       False        False       True\n",
            "1       False         True      False\n",
            "2        True        False      False\n",
            "3       False         True      False\n",
            "4       False        False       True\n"
          ]
        }
      ]
    },
    {
      "cell_type": "code",
      "source": [
        "#Answer of [8]\n",
        "\n",
        "import numpy as np\n",
        "import pandas as pd\n",
        "import matplotlib.pyplot as plt\n",
        "\n",
        "# 1. Generate 1000 samples from a normal distribution\n",
        "np.random.seed(42)  # for reproducibility\n",
        "data = np.random.normal(loc=50, scale=10, size=1000)  # mean=50, std=10\n",
        "\n",
        "# Convert to DataFrame\n",
        "df = pd.DataFrame(data, columns=['Value'])\n",
        "\n",
        "# 2. Introduce 50 random missing values\n",
        "missing_indices = np.random.choice(df.index, size=50, replace=False)\n",
        "df.loc[missing_indices, 'Value'] = np.nan\n",
        "\n",
        "# Save a copy for plotting before imputation\n",
        "df_before = df.copy()\n",
        "\n",
        "# 3. Fill missing values with the column mean\n",
        "mean_value = df['Value'].mean()\n",
        "df['Value'].fillna(mean_value, inplace=True)\n",
        "\n",
        "# 4. Plot histograms before and after imputation\n",
        "plt.figure(figsize=(12,5))\n",
        "\n",
        "# Before imputation\n",
        "plt.subplot(1,2,1)\n",
        "plt.hist(df_before['Value'], bins=30, color='skyblue', edgecolor='black')\n",
        "plt.title(\"Before Imputation\")\n",
        "plt.xlabel(\"Value\")\n",
        "plt.ylabel(\"Frequency\")\n",
        "\n",
        "# After imputation\n",
        "plt.subplot(1,2,2)\n",
        "plt.hist(df['Value'], bins=30, color='salmon', edgecolor='black')\n",
        "plt.title(\"After Imputation (Mean)\")\n",
        "plt.xlabel(\"Value\")\n",
        "plt.ylabel(\"Frequency\")\n",
        "\n",
        "plt.tight_layout()\n",
        "plt.show()\n"
      ],
      "metadata": {
        "colab": {
          "base_uri": "https://localhost:8080/",
          "height": 648
        },
        "id": "odIyZgVmNu3S",
        "outputId": "2a087fa0-2bcf-4a2c-dbc1-ba1f1971cf87"
      },
      "execution_count": null,
      "outputs": [
        {
          "output_type": "stream",
          "name": "stderr",
          "text": [
            "/tmp/ipython-input-2633205219.py:23: FutureWarning: A value is trying to be set on a copy of a DataFrame or Series through chained assignment using an inplace method.\n",
            "The behavior will change in pandas 3.0. This inplace method will never work because the intermediate object on which we are setting values always behaves as a copy.\n",
            "\n",
            "For example, when doing 'df[col].method(value, inplace=True)', try using 'df.method({col: value}, inplace=True)' or df[col] = df[col].method(value) instead, to perform the operation inplace on the original object.\n",
            "\n",
            "\n",
            "  df['Value'].fillna(mean_value, inplace=True)\n"
          ]
        },
        {
          "output_type": "display_data",
          "data": {
            "text/plain": [
              "<Figure size 1200x500 with 2 Axes>"
            ],
            "image/png": "[encoded data removed]"
          },
          "metadata": {}
        }
      ]
    },
    {
      "cell_type": "code",
      "source": [
        "#Answer of [9]\n",
        "\n",
        "from sklearn.preprocessing import MinMaxScaler\n",
        "import numpy as np\n",
        "\n",
        "# Original data\n",
        "data = np.array([2, 5, 10, 15, 20]).reshape(-1, 1)\n",
        "\n",
        "# Initialize scaler\n",
        "scaler = MinMaxScaler()\n",
        "\n",
        "# Fit and transform\n",
        "scaled_data = scaler.fit_transform(data)\n",
        "\n",
        "# Print result\n",
        "print(\"Original Data:\\n\", data.flatten())\n",
        "print(\"Scaled Data:\\n\", scaled_data.flatten())\n"
      ],
      "metadata": {
        "colab": {
          "base_uri": "https://localhost:8080/"
        },
        "id": "cJtACxVDOAmY",
        "outputId": "a8edbf66-ef91-49d2-99c4-ea9735d0b733"
      },
      "execution_count": null,
      "outputs": [
        {
          "output_type": "stream",
          "name": "stdout",
          "text": [
            "Original Data:\n",
            " [ 2  5 10 15 20]\n",
            "Scaled Data:\n",
            " [0.         0.16666667 0.44444444 0.72222222 1.        ]\n"
          ]
        }
      ]
    },
    {
      "cell_type": "markdown",
      "source": [
        "[10] **Answer**\n",
        "\n",
        "Explanation of Each Step\n",
        "\n",
        "1. Missing Values:\n",
        "\n",
        "* Age → median imputation\n",
        "\n",
        "* PaymentMethod → mode imputation\n",
        "\n",
        "2. Outliers:\n",
        "\n",
        "* Capped extreme TransactionAmount using IQR method.\n",
        "\n",
        "3. Categorical Encoding:\n",
        "\n",
        "* One-hot encoding for PaymentMethod.\n",
        "\n",
        "4. Scaling:\n",
        "\n",
        "* Min-Max scaling for Age and TransactionAmount.\n",
        "\n",
        "5. Imbalanced Target:\n",
        "\n",
        "* Used SMOTE to oversample minority class (Fraud).\n",
        "\n",
        "6. Train/Test Split:\n",
        "\n",
        "* Stratified to maintain class distribution."
      ],
      "metadata": {
        "id": "-NuS_lUtPK9k"
      }
    },
    {
      "cell_type": "code",
      "source": [
        "#Missing Ages\n",
        "\n",
        "import pandas as pd\n",
        "import numpy as np\n",
        "\n",
        "# Sample dataset with missing ages\n",
        "data = {\n",
        "    'CustomerID': [101, 102, 103, 104, 105, 106],\n",
        "    'Age': [25, np.nan, 40, np.nan, 35, 29],\n",
        "    'TransactionAmount': [200, 150, 300, 500, 250, 100]\n",
        "}\n",
        "\n",
        "df = pd.DataFrame(data)\n",
        "print(\"Original Data:\\n\", df)\n",
        "\n",
        "# ---- Method 1: Fill missing ages with median ----\n",
        "df['Age_median'] = df['Age'].fillna(df['Age'].median())\n",
        "\n",
        "# ---- Method 2: Fill missing ages with mean ----\n",
        "df['Age_mean'] = df['Age'].fillna(df['Age'].mean())\n",
        "\n",
        "# ---- Method 3: Fill missing ages with forward fill (previous value) ----\n",
        "df['Age_ffill'] = df['Age'].fillna(method='ffill')\n",
        "\n",
        "# ---- Method 4: Fill missing ages with interpolation ----\n",
        "df['Age_interp'] = df['Age'].interpolate()\n",
        "\n",
        "print(\"\\nAfter Handling Missing Ages:\\n\", df)\n"
      ],
      "metadata": {
        "colab": {
          "base_uri": "https://localhost:8080/"
        },
        "id": "xz1R4P5cyVGf",
        "outputId": "a4d1469c-25b4-4e3c-f30b-0237bf19d5ac"
      },
      "execution_count": 1,
      "outputs": [
        {
          "output_type": "stream",
          "name": "stdout",
          "text": [
            "Original Data:\n",
            "    CustomerID   Age  TransactionAmount\n",
            "0         101  25.0                200\n",
            "1         102   NaN                150\n",
            "2         103  40.0                300\n",
            "3         104   NaN                500\n",
            "4         105  35.0                250\n",
            "5         106  29.0                100\n",
            "\n",
            "After Handling Missing Ages:\n",
            "    CustomerID   Age  TransactionAmount  Age_median  Age_mean  Age_ffill  \\\n",
            "0         101  25.0                200        25.0     25.00       25.0   \n",
            "1         102   NaN                150        32.0     32.25       25.0   \n",
            "2         103  40.0                300        40.0     40.00       40.0   \n",
            "3         104   NaN                500        32.0     32.25       40.0   \n",
            "4         105  35.0                250        35.0     35.00       35.0   \n",
            "5         106  29.0                100        29.0     29.00       29.0   \n",
            "\n",
            "   Age_interp  \n",
            "0        25.0  \n",
            "1        32.5  \n",
            "2        40.0  \n",
            "3        37.5  \n",
            "4        35.0  \n",
            "5        29.0  \n"
          ]
        },
        {
          "output_type": "stream",
          "name": "stderr",
          "text": [
            "/tmp/ipython-input-2646206618.py:23: FutureWarning: Series.fillna with 'method' is deprecated and will raise in a future version. Use obj.ffill() or obj.bfill() instead.\n",
            "  df['Age_ffill'] = df['Age'].fillna(method='ffill')\n"
          ]
        }
      ]
    },
    {
      "cell_type": "code",
      "source": [
        "#Outliers in transaction amount\n",
        "\n",
        "import pandas as pd\n",
        "import numpy as np\n",
        "\n",
        "# Sample dataset with outliers\n",
        "data = {\n",
        "    'CustomerID': [101, 102, 103, 104, 105, 106, 107],\n",
        "    'TransactionAmount': [200, 220, 250, 270, 10000, 260, 230]  # 10000 is an outlier\n",
        "}\n",
        "\n",
        "df = pd.DataFrame(data)\n",
        "print(\"Original Data:\\n\", df)\n",
        "\n",
        "# ---- Detect outliers using IQR ----\n",
        "Q1 = df['TransactionAmount'].quantile(0.25)\n",
        "Q3 = df['TransactionAmount'].quantile(0.75)\n",
        "IQR = Q3 - Q1\n",
        "\n",
        "lower_bound = Q1 - 1.5 * IQR\n",
        "upper_bound = Q3 + 1.5 * IQR\n",
        "\n",
        "# Flagging outliers\n",
        "df['Outlier'] = ((df['TransactionAmount'] < lower_bound) |\n",
        "                 (df['TransactionAmount'] > upper_bound))\n",
        "\n",
        "print(\"\\nOutliers Detected:\\n\", df)\n",
        "\n",
        "# ---- Handle outliers ----\n",
        "# Option 1: Remove them\n",
        "df_removed = df[~df['Outlier']]\n",
        "\n",
        "# Option 2: Cap them (winsorization)\n",
        "df_capped = df.copy()\n",
        "df_capped['TransactionAmount'] = np.where(\n",
        "    df_capped['TransactionAmount'] > upper_bound, upper_bound,\n",
        "    np.where(df_capped['TransactionAmount'] < lower_bound, lower_bound, df_capped['TransactionAmount'])\n",
        ")\n",
        "\n",
        "print(\"\\nData after Capping Outliers:\\n\", df_capped)"
      ],
      "metadata": {
        "colab": {
          "base_uri": "https://localhost:8080/"
        },
        "id": "jBzavibpyfg-",
        "outputId": "d7033a6a-6d05-4bef-de34-0c69f0fde1bb"
      },
      "execution_count": 3,
      "outputs": [
        {
          "output_type": "stream",
          "name": "stdout",
          "text": [
            "Original Data:\n",
            "    CustomerID  TransactionAmount\n",
            "0         101                200\n",
            "1         102                220\n",
            "2         103                250\n",
            "3         104                270\n",
            "4         105              10000\n",
            "5         106                260\n",
            "6         107                230\n",
            "\n",
            "Outliers Detected:\n",
            "    CustomerID  TransactionAmount  Outlier\n",
            "0         101                200    False\n",
            "1         102                220    False\n",
            "2         103                250    False\n",
            "3         104                270    False\n",
            "4         105              10000     True\n",
            "5         106                260    False\n",
            "6         107                230    False\n",
            "\n",
            "Data after Capping Outliers:\n",
            "    CustomerID  TransactionAmount  Outlier\n",
            "0         101              200.0    False\n",
            "1         102              220.0    False\n",
            "2         103              250.0    False\n",
            "3         104              270.0    False\n",
            "4         105              325.0     True\n",
            "5         106              260.0    False\n",
            "6         107              230.0    False\n"
          ]
        }
      ]
    },
    {
      "cell_type": "code",
      "source": [
        "#A highly imbalanced target (fraud vs. non-fraud)\n",
        "\n",
        "import pandas as pd\n",
        "from sklearn.datasets import make_classification\n",
        "from imblearn.over_sampling import SMOTE\n",
        "from collections import Counter\n",
        "\n",
        "# ---- Step 1: Create sample imbalanced dataset ----\n",
        "X, y = make_classification(n_samples=1000, n_features=5, n_informative=3,\n",
        "                           n_redundant=0, weights=[0.95, 0.05], random_state=42)\n",
        "\n",
        "df = pd.DataFrame(X, columns=[f'Feature{i}' for i in range(1, 6)])\n",
        "df['Fraud'] = y\n",
        "\n",
        "print(\"Original target distribution:\", Counter(y))\n",
        "\n",
        "# ---- Step 2: Apply SMOTE to balance classes ----\n",
        "smote = SMOTE(random_state=42)\n",
        "X_resampled, y_resampled = smote.fit_resample(X, y)\n",
        "\n",
        "print(\"After SMOTE target distribution:\", Counter(y_resampled))\n",
        "\n",
        "# ---- Step 3: Convert back to DataFrame ----\n",
        "df_resampled = pd.DataFrame(X_resampled, columns=[f'Feature{i}' for i in range(1, 6)])\n",
        "df_resampled['Fraud'] = y_resampled\n",
        "\n",
        "print(\"\\nBalanced Dataset Sample:\\n\", df_resampled.head())\n"
      ],
      "metadata": {
        "colab": {
          "base_uri": "https://localhost:8080/"
        },
        "id": "hR-ARDtiy__R",
        "outputId": "25a1ca4d-5f03-492b-b30c-51d49e4b9d9a"
      },
      "execution_count": 4,
      "outputs": [
        {
          "output_type": "stream",
          "name": "stdout",
          "text": [
            "Original target distribution: Counter({np.int64(0): 944, np.int64(1): 56})\n",
            "After SMOTE target distribution: Counter({np.int64(0): 944, np.int64(1): 944})\n",
            "\n",
            "Balanced Dataset Sample:\n",
            "    Feature1  Feature2  Feature3  Feature4  Feature5  Fraud\n",
            "0 -0.529332 -0.093387 -1.526572  0.406847 -0.619699      0\n",
            "1 -0.978500 -1.690672 -2.175214 -0.995289  0.493251      0\n",
            "2 -2.171571  0.545787 -0.244730 -0.129407 -1.474666      0\n",
            "3 -0.151299 -0.365506  1.390122  0.850257 -1.404234      0\n",
            "4 -0.777371  1.146030 -2.479343  0.297014  1.518522      0\n"
          ]
        }
      ]
    },
    {
      "cell_type": "code",
      "source": [
        "#Categorical variables like payment method\n",
        "\n",
        "import pandas as pd\n",
        "from sklearn.preprocessing import OneHotEncoder, LabelEncoder\n",
        "\n",
        "# ---- Sample dataset ----\n",
        "data = {\n",
        "    'CustomerID': [101, 102, 103, 104, 105],\n",
        "    'PaymentMethod': ['CreditCard', 'DebitCard', 'UPI', 'Cash', 'CreditCard'],\n",
        "    'TransactionAmount': [200, 150, 300, 500, 250]\n",
        "}\n",
        "\n",
        "df = pd.DataFrame(data)\n",
        "print(\"Original Data:\\n\", df)\n",
        "\n",
        "# ---- Method 1: One-Hot Encoding using pandas ----\n",
        "df_onehot = pd.get_dummies(df, columns=['PaymentMethod'], prefix='PM')\n",
        "print(\"\\nAfter One-Hot Encoding:\\n\", df_onehot)\n",
        "\n",
        "# ---- Method 2: One-Hot Encoding using scikit-learn ----\n",
        "encoder = OneHotEncoder(sparse_output=False)\n",
        "encoded = encoder.fit_transform(df[['PaymentMethod']])\n",
        "\n",
        "df_encoded = pd.DataFrame(encoded, columns=encoder.get_feature_names_out(['PaymentMethod']))\n",
        "df_final = pd.concat([df.drop('PaymentMethod', axis=1), df_encoded], axis=1)\n",
        "print(\"\\nAfter sklearn One-Hot Encoding:\\n\", df_final)\n",
        "\n",
        "# ---- Method 3: Label Encoding (not recommended for unordered categories) ----\n",
        "le = LabelEncoder()\n",
        "df['PaymentMethod_Label'] = le.fit_transform(df['PaymentMethod'])\n",
        "print(\"\\nAfter Label Encoding:\\n\", df)\n"
      ],
      "metadata": {
        "colab": {
          "base_uri": "https://localhost:8080/"
        },
        "id": "tHb1w8HlzYSg",
        "outputId": "e8433c79-9d32-40f4-8c12-999eab2bac56"
      },
      "execution_count": 5,
      "outputs": [
        {
          "output_type": "stream",
          "name": "stdout",
          "text": [
            "Original Data:\n",
            "    CustomerID PaymentMethod  TransactionAmount\n",
            "0         101    CreditCard                200\n",
            "1         102     DebitCard                150\n",
            "2         103           UPI                300\n",
            "3         104          Cash                500\n",
            "4         105    CreditCard                250\n",
            "\n",
            "After One-Hot Encoding:\n",
            "    CustomerID  TransactionAmount  PM_Cash  PM_CreditCard  PM_DebitCard  PM_UPI\n",
            "0         101                200    False           True         False   False\n",
            "1         102                150    False          False          True   False\n",
            "2         103                300    False          False         False    True\n",
            "3         104                500     True          False         False   False\n",
            "4         105                250    False           True         False   False\n",
            "\n",
            "After sklearn One-Hot Encoding:\n",
            "    CustomerID  TransactionAmount  PaymentMethod_Cash  \\\n",
            "0         101                200                 0.0   \n",
            "1         102                150                 0.0   \n",
            "2         103                300                 0.0   \n",
            "3         104                500                 1.0   \n",
            "4         105                250                 0.0   \n",
            "\n",
            "   PaymentMethod_CreditCard  PaymentMethod_DebitCard  PaymentMethod_UPI  \n",
            "0                       1.0                      0.0                0.0  \n",
            "1                       0.0                      1.0                0.0  \n",
            "2                       0.0                      0.0                1.0  \n",
            "3                       0.0                      0.0                0.0  \n",
            "4                       1.0                      0.0                0.0  \n",
            "\n",
            "After Label Encoding:\n",
            "    CustomerID PaymentMethod  TransactionAmount  PaymentMethod_Label\n",
            "0         101    CreditCard                200                    1\n",
            "1         102     DebitCard                150                    2\n",
            "2         103           UPI                300                    3\n",
            "3         104          Cash                500                    0\n",
            "4         105    CreditCard                250                    1\n"
          ]
        }
      ]
    }
  ]
}